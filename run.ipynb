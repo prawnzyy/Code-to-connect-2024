{
 "cells": [
  {
   "cell_type": "code",
   "execution_count": null,
   "metadata": {},
   "outputs": [],
   "source": [
    "from src import MatchingEngine\n",
    "engine = MatchingEngine(\"./C2C-2024-DataSet/DataSets/example-set/input_clients.csv\",\n",
    "                        \"./C2C-2024-DataSet/DataSets/example-set/input_instruments.csv\",\n",
    "                        \"./C2C-2024-DataSet/DataSets/example-set/input_orders.csv\")\n",
    "engine.run()"
   ]
  }
 ],
 "metadata": {
  "language_info": {
   "name": "python"
  }
 },
 "nbformat": 4,
 "nbformat_minor": 2
}
